{
 "cells": [
  {
   "cell_type": "code",
   "execution_count": null,
   "metadata": {},
   "outputs": [],
   "source": [
    "import pandas as pd\n",
    "bfriday = pd.read_csv(\"BlackFriday.csv\")\n",
    "for i in b:\n",
    "    exec(\"bfriday.%s.fillna(bfriday.%s.value_counts().idxmax(), inplace=True)\" %(i,i))\n",
    "X = bfriday.drop([\"Purchase\"], axis=1)\n",
    "\n",
    "from sklearn.preprocessing import LabelEncoder#Now let's import encoder from sklearn library\n",
    "LE = LabelEncoder()\n",
    "\n",
    "X = X.apply(LE.fit_transform)#Here we applied encoder onto data\n",
    "\n",
    "X.Gender = pd.to_numeric(X.Gender)\n",
    "X.Age = pd.to_numeric(X.Age)\n",
    "X.Occupation = pd.to_numeric(X.Occupation)\n",
    "X.City_Category = pd.to_numeric(X.City_Category)\n",
    "X.Stay_In_Current_City_Years = pd.to_numeric(X.Stay_In_Current_City_Years)\n",
    "X.Marital_Status = pd.to_numeric(X.Marital_Status)\n",
    "X.Product_Category_1 = pd.to_numeric(X.Product_Category_1)\n",
    "X.Product_Category_2 = pd.to_numeric(X.Product_Category_2)\n",
    "X.Product_Category_3 = pd.to_numeric(X.Product_Category_3)\n",
    "\n",
    "Y = bfriday[\"Purchase\"]#Here we will made a array named as Y consisting of data from purchase column\n",
    "\n",
    "from sklearn.preprocessing import StandardScaler\n",
    "SS = StandardScaler()\n",
    "\n",
    "\n",
    "\n",
    "Xs = SS.fit_transform(X)\n",
    "#You must to transform X into numeric representation (not necessary binary).Because all machine learning methods operate on matrices of number\n",
    "\n",
    "from sklearn.decomposition import PCA\n",
    "pc = PCA(4)#here 4 indicates the number of components you want it into."
   ]
  },
  {
   "cell_type": "code",
   "execution_count": null,
   "metadata": {},
   "outputs": [],
   "source": [
    "principalComponents = pc.fit_transform(X)#Here we are applying PCA to data/fitting data to PCA\n",
    "\n",
    "pc.explained_variance_ratio_\n",
    "\n",
    "array([7.35041374e-01, 2.64935995e-01, 1.10061180e-05, 6.21704987e-06])\n",
    "\n",
    "principalDf = pd.DataFrame(data = principalComponents, columns = [\"component 1\", \"component 2\", \"component 3\", \"component 4\"])\n",
    "\n",
    "from sklearn.model_selection import KFold\n",
    "kf = KFold(20)\n",
    "#Provides train/test indices to split data in train/test sets. Split dataset into k consecutive folds (without shuffling by default).\n",
    "#Each fold is then used once as a validation while the k - 1 remaining folds form the training set.\n",
    "\n",
    "for a,b in kf.split(principalDf):\n",
    "    X_train, X_test = Xs[a],Xs[b]\n",
    "    y_train, y_test = Y[a],Y[b]\n",
    "\n",
    "from sklearn.linear_model import LinearRegression\n",
    "from sklearn.tree import DecisionTreeRegressor\n",
    "from sklearn.ensemble import RandomForestRegressor\n",
    "from sklearn.ensemble import GradientBoostingRegressor"
   ]
  },
  {
   "cell_type": "code",
   "execution_count": null,
   "metadata": {},
   "outputs": [],
   "source": [
    "lr = LinearRegression()\n",
    "dtr = DecisionTreeRegressor()\n",
    "rfr = RandomForestRegressor()\n",
    "gbr = GradientBoostingRegressor()\n",
    "\n",
    "fit1 = lr.fit(X_train,y_train)#Here we fit training data to linear regressor\n",
    "fit2 = dtr.fit(X_train,y_train)#Here we fit training data to Decision Tree Regressor\n",
    "fit3 = rfr.fit(X_train,y_train)#Here we fit training data to Random Forest Regressor\n",
    "fit4 = gbr.fit(X_train,y_train)#Here we fit training data to Gradient Boosting Regressor"
   ]
  },
  {
   "cell_type": "code",
   "execution_count": null,
   "metadata": {},
   "outputs": [],
   "source": [
    "print(\"Accuracy Score of Linear regression on train set\",fit1.score(X_train,y_train)*100)\n",
    "print(\"Accuracy Score of Decision Tree on train set\",fit2.score(X_train,y_train)*100)\n",
    "print(\"Accuracy Score of Random Forests on train set\",fit3.score(X_train,y_train)*100)\n",
    "print(\"Accuracy Score of Gradient Boosting on train set\",fit4.score(X_train,y_train)*100)"
   ]
  },
  {
   "cell_type": "code",
   "execution_count": null,
   "metadata": {},
   "outputs": [],
   "source": [
    "print(\"Accuracy Score of Linear regression on test set\",fit1.score(X_test,y_test)*100)\n",
    "print(\"Accuracy Score of Decision Tree on test set\",fit2.score(X_test,y_test)*100)\n",
    "print(\"Accuracy Score of Random Forests on test set\",fit3.score(X_test,y_test)*100)\n",
    "print(\"Accuracy Score of Gradient Boosting on testset\",fit4.score(X_test,y_test)*100)"
   ]
  }
 ],
 "metadata": {
  "kernelspec": {
   "display_name": "Python 3",
   "language": "python",
   "name": "python3"
  },
  "language_info": {
   "codemirror_mode": {
    "name": "ipython",
    "version": 3
   },
   "file_extension": ".py",
   "mimetype": "text/x-python",
   "name": "python",
   "nbconvert_exporter": "python",
   "pygments_lexer": "ipython3",
   "version": "3.7.4"
  }
 },
 "nbformat": 4,
 "nbformat_minor": 2
}
